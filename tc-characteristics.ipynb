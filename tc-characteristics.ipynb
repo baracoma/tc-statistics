{
 "cells": [
  {
   "cell_type": "markdown",
   "id": "571878bb-6526-4d38-a2cb-ea49df1648af",
   "metadata": {},
   "source": [
    "# Tropical Cyclone Characteristics Notebook\n",
    "\n",
    "This notebook supports the research paper:\n",
    "\n",
    "**\"Characteristics of Tropical Cyclone within Philippine Operational Domains\"**  \n",
    "by Bernard Alan B. Racoma et al.\n",
    "\n",
    "---\n",
    "\n",
    "## Description\n",
    "\n",
    "This notebook processes and analyzes tropical cyclone (TC) data over the Philippines, with a focus on behavior within operational domains such as the PAR, TCID, TCAD, and the Philippine Coastal Waters (PCW). It calculates statistics such as TC lifetimes, intensity changes, and landfall characteristics, and visualizes these with geospatial plots.\n",
    "\n",
    "---\n",
    "\n",
    "## Overview\n",
    "\n",
    "1. **Setup** – Import libraries and define file paths.  \n",
    "2. **Preprocessing** – Load and clean IBTrACS and shapefile data.  \n",
    "3. **Analysis** – Calculate lifetimes, intensity change, RI events, etc.  \n",
    "4. **Geospatial Processing** – Perform spatial joins and intersections.  \n",
    "5. **Visualization** – Plot tracks, maps, and other figures.  \n",
    "6. **Summary Statistics** – Output descriptive stats for reporting.  \n",
    "7. **Conclusion** – Summary of findings and links to paper results.\n",
    "\n",
    "\n",
    "\n"
   ]
  },
  {
   "cell_type": "markdown",
   "id": "78be7b0d-45f7-44bd-ac77-520d7704a2ae",
   "metadata": {},
   "source": [
    "## Imports"
   ]
  },
  {
   "cell_type": "code",
   "execution_count": 18,
   "id": "54d7f236-f35c-4c79-92c6-dfc7f490fdbf",
   "metadata": {},
   "outputs": [],
   "source": [
    "import os\n",
    "import geopandas as gpd\n",
    "import pandas as pd\n",
    "from shapely.geometry import Point, Polygon, LineString\n",
    "from shapely.prepared import prep\n",
    "from shapely.ops import split\n",
    "import matplotlib.pyplot as plt\n",
    "import numpy as np\n",
    "from tqdm.auto import tqdm\n",
    "import matplotlib.pyplot as plt\n",
    "# import shapely"
   ]
  },
  {
   "cell_type": "markdown",
   "id": "279a6fe8-e846-488b-b6ca-9cab91946855",
   "metadata": {},
   "source": [
    "## Load data files"
   ]
  },
  {
   "cell_type": "code",
   "execution_count": 2,
   "id": "e5b75de8-73b5-4e02-bf2d-39c12df9ec91",
   "metadata": {},
   "outputs": [
    {
     "name": "stdout",
     "output_type": "stream",
     "text": [
      "ERROR! Session/line number was not unique in database. History logging moved to new session 2\n"
     ]
    },
    {
     "name": "stderr",
     "output_type": "stream",
     "text": [
      "ERROR 1: PROJ: proj_create_from_database: Open of /home/cs-iesm-geostorm/WRF_Intel/miniconda3/envs/research/share/proj failed\n"
     ]
    }
   ],
   "source": [
    "# Load the Philippine waters shapefile\n",
    "phil_waters = gpd.read_file(\"/home/cs-iesm-geostorm/Data/gis/vector/boundaries/waters/philippine_waters_filled.shp\")\n",
    "ph_shape = phil_waters.geometry.iloc[0]\n",
    "\n",
    "# ph_buffered = ph_shape.buffer(0.5)  # 0.5 degrees (since CRS is EPSG:4326)\n",
    "phil_coast = gpd.read_file(\"/home/cs-iesm-geostorm/Data/gis/vector/boundaries/country/Country.shp\")"
   ]
  },
  {
   "cell_type": "code",
   "execution_count": 3,
   "id": "70ed2541-eda5-4345-a09e-97fbd347deb5",
   "metadata": {},
   "outputs": [],
   "source": [
    "# Load TCID, TCAD, and PAR polygons\n",
    "gdf_tcid = gpd.read_file(\"PAGASA_TCID.gpkg\").to_crs(4326)\n",
    "gdf_tcad = gpd.read_file(\"PAGASA_TCAD.gpkg\").to_crs(4326)\n",
    "gdf_par = gpd.read_file(\"PAGASA_PAR.gpkg\").to_crs(4326)\n"
   ]
  },
  {
   "cell_type": "code",
   "execution_count": 4,
   "id": "77403c1c-cd6f-4084-9670-4613dcce3280",
   "metadata": {},
   "outputs": [],
   "source": [
    "# Load the IBTrACS data CSV\n",
    "ibtracs = pd.read_csv(\"/home/cs-iesm-geostorm/Data/gis/vector/ibtracs/ibtracs.WP.list.v04r01.csv\", low_memory=False ,skiprows = [1])\n",
    "ibtracs = ibtracs[ibtracs.SEASON>=1979]\n",
    "# Get unique storm IDs\n",
    "unique_sids = ibtracs[\"SID\"].unique()"
   ]
  },
  {
   "cell_type": "code",
   "execution_count": 6,
   "id": "3d46d6bc-5f02-4f29-bc05-14f39e656b89",
   "metadata": {},
   "outputs": [
    {
     "data": {
      "text/plain": [
       "1507"
      ]
     },
     "execution_count": 6,
     "metadata": {},
     "output_type": "execute_result"
    }
   ],
   "source": [
    "len(unique_sids)"
   ]
  },
  {
   "cell_type": "code",
   "execution_count": 5,
   "id": "be686ae7-b4fd-4857-8c5c-2b94879eca0c",
   "metadata": {},
   "outputs": [],
   "source": [
    "# Convert to GeoDataFrame\n",
    "gdf_tracks = gpd.GeoDataFrame(\n",
    "    ibtracs,\n",
    "    geometry=gpd.points_from_xy(ibtracs[\"LON\"], ibtracs[\"LAT\"]),\n",
    "    crs=\"EPSG:4326\"\n",
    ")"
   ]
  },
  {
   "cell_type": "markdown",
   "id": "9d9d4e54-5438-4bf0-a983-1f6878a4710c",
   "metadata": {},
   "source": [
    "## Calculate TC Intersections"
   ]
  },
  {
   "cell_type": "code",
   "execution_count": 12,
   "id": "b4cf1e32-c102-4f9b-b9ab-d1cf88ab9b29",
   "metadata": {},
   "outputs": [
    {
     "data": {
      "application/vnd.jupyter.widget-view+json": {
       "model_id": "b8d2a1085c2947a49274e2deed2a1cd3",
       "version_major": 2,
       "version_minor": 0
      },
      "text/plain": [
       "  0%|          | 0/1507 [00:00<?, ?it/s]"
      ]
     },
     "metadata": {},
     "output_type": "display_data"
    },
    {
     "name": "stdout",
     "output_type": "stream",
     "text": [
      "436 TCs intersected PH.\n",
      "957 TCs intersected PAR.\n"
     ]
    }
   ],
   "source": [
    "from shapely.geometry import LineString\n",
    "from shapely.prepared import prep\n",
    "\n",
    "par_poly = gdf_par.geometry[0]\n",
    "# Prepare the PH and PAR polygons\n",
    "ph_prepared = prep(ph_shape)\n",
    "par_prepared = prep(par_poly)\n",
    "\n",
    "# Also get their bounding boxes for a fast first filter\n",
    "ph_bounds = ph_shape.bounds\n",
    "par_bounds = par_poly.bounds\n",
    "\n",
    "intersect_results = []\n",
    "\n",
    "for sid, group in tqdm(gdf_tracks.groupby(\"SID\")):\n",
    "    points = list(group.sort_values(\"ISO_TIME\")[\"geometry\"])\n",
    "    if len(points) < 2:\n",
    "        continue  # Skip storms with insufficient points\n",
    "\n",
    "    track_line = LineString(points)\n",
    "    line_bounds = track_line.bounds\n",
    "\n",
    "    # Fast bounding box skip\n",
    "    skip_ph = (line_bounds[2] < ph_bounds[0]) or (line_bounds[0] > ph_bounds[2]) or \\\n",
    "              (line_bounds[3] < ph_bounds[1]) or (line_bounds[1] > ph_bounds[3])\n",
    "\n",
    "    skip_par = (line_bounds[2] < par_bounds[0]) or (line_bounds[0] > par_bounds[2]) or \\\n",
    "               (line_bounds[3] < par_bounds[1]) or (line_bounds[1] > par_bounds[3])\n",
    "\n",
    "    # Use prepped geometry for faster intersects\n",
    "    intersects_ph = False if skip_ph else ph_prepared.intersects(track_line)\n",
    "    intersects_par = False if skip_par else par_prepared.intersects(track_line)\n",
    "\n",
    "    intersect_results.append({\n",
    "        \"SID\": sid,\n",
    "        \"intersects_ph\": intersects_ph,\n",
    "        \"intersects_par\": intersects_par\n",
    "    })\n",
    "\n",
    "# Wrap in DataFrame\n",
    "df_intersects = pd.DataFrame(intersect_results)\n",
    "\n",
    "# Final counts\n",
    "n_track_in_ph = df_intersects[\"intersects_ph\"].sum()\n",
    "n_track_in_par = df_intersects[\"intersects_par\"].sum()\n",
    "\n",
    "print(f\"{n_track_in_ph} TCs intersected PH.\")\n",
    "print(f\"{n_track_in_par} TCs intersected PAR.\")\n"
   ]
  },
  {
   "cell_type": "markdown",
   "id": "c79da999-e509-4b92-9280-1a73c6dadc3b",
   "metadata": {},
   "source": [
    "## Find TCs that originate OUTSIDE PCW"
   ]
  },
  {
   "cell_type": "code",
   "execution_count": 34,
   "id": "c09809b1-5703-4018-b7f0-4498d7cd7b8d",
   "metadata": {},
   "outputs": [
    {
     "data": {
      "application/vnd.jupyter.widget-view+json": {
       "model_id": "f134583b561441e49c73d3caf2dc6262",
       "version_major": 2,
       "version_minor": 0
      },
      "text/plain": [
       "  0%|          | 0/1507 [00:00<?, ?it/s]"
      ]
     },
     "metadata": {},
     "output_type": "display_data"
    },
    {
     "data": {
      "text/plain": [
       "391"
      ]
     },
     "execution_count": 34,
     "metadata": {},
     "output_type": "execute_result"
    }
   ],
   "source": [
    "\n",
    "valid_sids = []\n",
    "for sid, group in tqdm(gdf_tracks.groupby(\"SID\")):\n",
    "    group = group.sort_values(\"ISO_TIME\")\n",
    "    starts_outside = not ph_prepared.contains(group.iloc[0].geometry)\n",
    "    ever_inside = group.geometry.apply(ph_prepared.contains).any()\n",
    "    if starts_outside and ever_inside:\n",
    "        valid_sids.append(sid)\n",
    "\n",
    "# print(f\"{len(valid_sids)} TCs enter from outside into PCW.\")\n",
    "# Find storms that start outside but enter PCW\n",
    "origin_inside = gdf_tracks.groupby(\"SID\").first()[\"geometry\"].apply(ph_shape.contains)\n",
    "sids_origin_outside = origin_inside[~origin_inside].index\n",
    "\n",
    "# Final valid sids are those that both entered and originated outside\n",
    "outside_origin_sids = list(set(valid_sids).intersection(set(sids_origin_outside)))\n",
    "len(outside_origin_sids)"
   ]
  },
  {
   "cell_type": "markdown",
   "id": "5610284b-87b9-4362-8c1f-826a271644bc",
   "metadata": {},
   "source": [
    "## Find points intersecting PCW shape"
   ]
  },
  {
   "cell_type": "code",
   "execution_count": 50,
   "id": "4931fd41-ae14-419c-830a-47f9f2b5c78b",
   "metadata": {},
   "outputs": [
    {
     "data": {
      "application/vnd.jupyter.widget-view+json": {
       "model_id": "e13064ebcc2444a7807421883017cc94",
       "version_major": 2,
       "version_minor": 0
      },
      "text/plain": [
       "  0%|          | 0/391 [00:00<?, ?it/s]"
      ]
     },
     "metadata": {},
     "output_type": "display_data"
    },
    {
     "name": "stdout",
     "output_type": "stream",
     "text": [
      "✅ Found 372 valid landfalling TCs (with direction filtering).\n"
     ]
    }
   ],
   "source": [
    "# Prep the PCW shape\n",
    "# ph_prepared = prep(ph_shape)\n",
    "\n",
    "# Store landfall points\n",
    "landfall_records = []\n",
    "\n",
    "# Filter to only TCs that intersected PCW (e.g., passed  new filtering)\n",
    "gdf_tracks_lf = gdf_tracks[gdf_tracks[\"SID\"].isin(outside_origin_sids)]\n",
    "\n",
    "# Special case: SID 1983276N06130 intersects west edge of PCW\n",
    "# We use a buffered version of the PCW polygon for this TC only\n",
    "# to correct a visually verified edge-case landfall position.\n",
    "ph_shape_buffered = ph_shape.buffer(0.2)  # or 0.1 degrees (~10–20 km)\n",
    "\n",
    "\n",
    "\n",
    "# Toggle filter for westward moving TCs\n",
    "filter_westward = True\n",
    "\n",
    "valid_lf_sids = []\n",
    "# Loop through storms\n",
    "for sid, group in tqdm(gdf_tracks_lf.groupby(\"SID\")):\n",
    "    group = group.sort_values(\"ISO_TIME\").reset_index(drop=True)\n",
    "    points = list(group[\"geometry\"])\n",
    "\n",
    "    # Directional filter\n",
    "    origin_lon = group.iloc[0].geometry.x\n",
    "    origin_lon_cutoff = 120  # Adjust depending on your PCW bounds\n",
    "    if origin_lon < origin_lon_cutoff:\n",
    "        continue  # storm originated too far west\n",
    "\n",
    "    # 1983276N06130 filter \n",
    "    this_ph_shape = ph_shape_buffered if sid == \"1983276N06130\" else ph_shape\n",
    "\n",
    "    \n",
    "    for i in range(len(points) - 1):\n",
    "        p1, p2 = points[i], points[i + 1]\n",
    "        segment = LineString([p1, p2])\n",
    "\n",
    "        # Only proceed if segment intersects PCW\n",
    "        if segment.intersects(ph_shape):\n",
    "            intersection = segment.intersection(ph_shape)\n",
    "\n",
    "            # If it's a Point or MultiPoint, store it\n",
    "            if intersection.is_empty:\n",
    "                continue\n",
    "            elif intersection.geom_type == \"Point\":\n",
    "                lf_point = intersection\n",
    "            if intersection.geom_type == \"MultiPoint\":\n",
    "                # Choose the point closest to p1 (entry point)\n",
    "                lf_point = min(intersection.geoms, key=lambda pt: pt.distance(p1))\n",
    "            elif intersection.geom_type == \"LineString\":\n",
    "                # Use the start of the intersection line (likely entry point)\n",
    "                lf_point = intersection.coords[0]  # or interpolate(0.0) if needed\n",
    "                lf_point = Point(lf_point)\n",
    "\n",
    "            else:\n",
    "                continue  # skip unrecognized geometry types\n",
    "\n",
    "            # Add metadata\n",
    "            row = group.iloc[i + 1].copy()  # Take next point's time/metadata\n",
    "            row[\"geometry\"] = lf_point\n",
    "            # Directional filtering\n",
    "            if filter_westward:\n",
    "                # dir_val = row.get(\"STORM_DIR\")\n",
    "                dir_val = pd.to_numeric(row.get(\"STORM_DIR\"), errors='coerce')\n",
    "                # pd.to_numeric(df_sid[dir_col], errors='coerce')\n",
    "                if pd.isna(dir_val) or not (180 < dir_val < 360):\n",
    "                    # Not westward\n",
    "                    continue\n",
    "            # Convert times to datetime\n",
    "            lf_time = pd.to_datetime(row[\"ISO_TIME\"])\n",
    "            start_time = pd.to_datetime(group[\"ISO_TIME\"].min())\n",
    "            end_time = pd.to_datetime(group[\"ISO_TIME\"].max())\n",
    "            storm_duration = end_time - start_time\n",
    "\n",
    "            # # Check if landfall is in the first 50% of lifetime\n",
    "            # if lf_time - start_time > 0.5 * storm_duration:\n",
    "            #     continue  # Skip late landfall\n",
    "\n",
    "\n",
    "            \n",
    "            landfall_records.append(row)\n",
    "            break  # only keep FIRST landfall per storm\n",
    "\n",
    "# # Create GeoDataFrame\n",
    "# if landfall_records:\n",
    "#     gdf_first_landfall_points = gpd.GeoDataFrame(landfall_records, geometry=\"geometry\", crs=gdf_tracks.crs)\n",
    "#     print(f\"Found {len(gdf_first_landfall_points)} first landfall points.\")\n",
    "# else:\n",
    "#     gdf_first_landfall_points = gpd.GeoDataFrame(columns=gdf_tracks.columns, geometry=\"geometry\", crs=gdf_tracks.crs)\n",
    "#     print(\"No first landfall points found.\")\n",
    "\n",
    "if landfall_records:\n",
    "    gdf_first_landfall_points = gpd.GeoDataFrame(landfall_records, geometry=\"geometry\", crs=gdf_tracks.crs)\n",
    "    valid_lf_sids = gdf_first_landfall_points[\"SID\"].unique().tolist()\n",
    "    print(f\"✅ Found {len(valid_lf_sids)} valid landfalling TCs (with direction filtering).\")\n",
    "else:\n",
    "    gdf_first_landfall_points = gpd.GeoDataFrame(columns=gdf_tracks.columns, geometry=\"geometry\", crs=gdf_tracks.crs)\n",
    "    valid_lf_sids = []\n",
    "    print(\"⚠️ No valid landfall points found.\")\n",
    "\n"
   ]
  },
  {
   "cell_type": "code",
   "execution_count": 51,
   "id": "20dfa0dd-531c-4cf8-9647-e99e2d4db882",
   "metadata": {},
   "outputs": [
    {
     "data": {
      "image/png": "[encoded data removed]",
      "text/plain": [
       "<Figure size 640x480 with 1 Axes>"
      ]
     },
     "metadata": {},
     "output_type": "display_data"
    }
   ],
   "source": [
    "gdf_first_landfall_points.plot()\n",
    "plt.show()"
   ]
  },
  {
   "cell_type": "code",
   "execution_count": 52,
   "id": "7af66353-f497-4e4e-91e1-3ca8f489a7bc",
   "metadata": {},
   "outputs": [],
   "source": [
    "gdf_first_landfall_points.to_file(\"output/first_landfall_points.gpkg\", layer=\"landfalls\", driver=\"GPKG\")\n"
   ]
  },
  {
   "cell_type": "markdown",
   "id": "0ec5bb64-1c13-426d-aa85-54643662c90b",
   "metadata": {},
   "source": [
    "## For validation: check tracks of TCs with first intersecting points at west"
   ]
  },
  {
   "cell_type": "code",
   "execution_count": 45,
   "id": "e14f0262-8e4d-45ef-961f-14cf3e112cb0",
   "metadata": {},
   "outputs": [
    {
     "data": {
      "application/vnd.jupyter.widget-view+json": {
       "model_id": "13e6ae21032743bdb56c63c57f0f7fc8",
       "version_major": 2,
       "version_minor": 0
      },
      "text/plain": [
       "  0%|          | 0/376 [00:00<?, ?it/s]"
      ]
     },
     "metadata": {},
     "output_type": "display_data"
    },
    {
     "ename": "KeyboardInterrupt",
     "evalue": "",
     "output_type": "error",
     "traceback": [
      "\u001b[0;31m---------------------------------------------------------------------------\u001b[0m",
      "\u001b[0;31mKeyboardInterrupt\u001b[0m                         Traceback (most recent call last)",
      "Cell \u001b[0;32mIn[45], line 37\u001b[0m\n\u001b[1;32m     35\u001b[0m     \u001b[38;5;66;03m# Save figure\u001b[39;00m\n\u001b[1;32m     36\u001b[0m     plt\u001b[38;5;241m.\u001b[39mtight_layout()\n\u001b[0;32m---> 37\u001b[0m     \u001b[43mplt\u001b[49m\u001b[38;5;241;43m.\u001b[39;49m\u001b[43msavefig\u001b[49m\u001b[43m(\u001b[49m\u001b[38;5;124;43mf\u001b[39;49m\u001b[38;5;124;43m\"\u001b[39;49m\u001b[38;5;132;43;01m{\u001b[39;49;00m\u001b[43moutput_dir\u001b[49m\u001b[38;5;132;43;01m}\u001b[39;49;00m\u001b[38;5;124;43m/\u001b[39;49m\u001b[38;5;132;43;01m{\u001b[39;49;00m\u001b[43msid\u001b[49m\u001b[38;5;132;43;01m}\u001b[39;49;00m\u001b[38;5;124;43m.png\u001b[39;49m\u001b[38;5;124;43m\"\u001b[39;49m\u001b[43m,\u001b[49m\u001b[43m \u001b[49m\u001b[43mdpi\u001b[49m\u001b[38;5;241;43m=\u001b[39;49m\u001b[38;5;241;43m200\u001b[39;49m\u001b[43m)\u001b[49m\n\u001b[1;32m     38\u001b[0m     plt\u001b[38;5;241m.\u001b[39mclose()\n\u001b[1;32m     40\u001b[0m \u001b[38;5;28mprint\u001b[39m(\u001b[38;5;124mf\u001b[39m\u001b[38;5;124m\"\u001b[39m\u001b[38;5;124mFinished plotting \u001b[39m\u001b[38;5;132;01m{\u001b[39;00m\u001b[38;5;28mlen\u001b[39m(west_sids)\u001b[38;5;132;01m}\u001b[39;00m\u001b[38;5;124m tracks to \u001b[39m\u001b[38;5;132;01m{\u001b[39;00moutput_dir\u001b[38;5;132;01m}\u001b[39;00m\u001b[38;5;124m/\u001b[39m\u001b[38;5;124m\"\u001b[39m)\n",
      "File \u001b[0;32m~/WRF_Intel/miniconda3/envs/research/lib/python3.9/site-packages/matplotlib/pyplot.py:1135\u001b[0m, in \u001b[0;36msavefig\u001b[0;34m(*args, **kwargs)\u001b[0m\n\u001b[1;32m   1132\u001b[0m \u001b[38;5;66;03m# savefig default implementation has no return, so mypy is unhappy\u001b[39;00m\n\u001b[1;32m   1133\u001b[0m \u001b[38;5;66;03m# presumably this is here because subclasses can return?\u001b[39;00m\n\u001b[1;32m   1134\u001b[0m res \u001b[38;5;241m=\u001b[39m fig\u001b[38;5;241m.\u001b[39msavefig(\u001b[38;5;241m*\u001b[39margs, \u001b[38;5;241m*\u001b[39m\u001b[38;5;241m*\u001b[39mkwargs)  \u001b[38;5;66;03m# type: ignore[func-returns-value]\u001b[39;00m\n\u001b[0;32m-> 1135\u001b[0m \u001b[43mfig\u001b[49m\u001b[38;5;241;43m.\u001b[39;49m\u001b[43mcanvas\u001b[49m\u001b[38;5;241;43m.\u001b[39;49m\u001b[43mdraw_idle\u001b[49m\u001b[43m(\u001b[49m\u001b[43m)\u001b[49m  \u001b[38;5;66;03m# Need this if 'transparent=True', to reset colors.\u001b[39;00m\n\u001b[1;32m   1136\u001b[0m \u001b[38;5;28;01mreturn\u001b[39;00m res\n",
      "File \u001b[0;32m~/WRF_Intel/miniconda3/envs/research/lib/python3.9/site-packages/matplotlib/backend_bases.py:1893\u001b[0m, in \u001b[0;36mFigureCanvasBase.draw_idle\u001b[0;34m(self, *args, **kwargs)\u001b[0m\n\u001b[1;32m   1891\u001b[0m \u001b[38;5;28;01mif\u001b[39;00m \u001b[38;5;129;01mnot\u001b[39;00m \u001b[38;5;28mself\u001b[39m\u001b[38;5;241m.\u001b[39m_is_idle_drawing:\n\u001b[1;32m   1892\u001b[0m     \u001b[38;5;28;01mwith\u001b[39;00m \u001b[38;5;28mself\u001b[39m\u001b[38;5;241m.\u001b[39m_idle_draw_cntx():\n\u001b[0;32m-> 1893\u001b[0m         \u001b[38;5;28;43mself\u001b[39;49m\u001b[38;5;241;43m.\u001b[39;49m\u001b[43mdraw\u001b[49m\u001b[43m(\u001b[49m\u001b[38;5;241;43m*\u001b[39;49m\u001b[43margs\u001b[49m\u001b[43m,\u001b[49m\u001b[43m \u001b[49m\u001b[38;5;241;43m*\u001b[39;49m\u001b[38;5;241;43m*\u001b[39;49m\u001b[43mkwargs\u001b[49m\u001b[43m)\u001b[49m\n",
      "File \u001b[0;32m~/WRF_Intel/miniconda3/envs/research/lib/python3.9/site-packages/matplotlib/backends/backend_agg.py:388\u001b[0m, in \u001b[0;36mFigureCanvasAgg.draw\u001b[0;34m(self)\u001b[0m\n\u001b[1;32m    385\u001b[0m \u001b[38;5;66;03m# Acquire a lock on the shared font cache.\u001b[39;00m\n\u001b[1;32m    386\u001b[0m \u001b[38;5;28;01mwith\u001b[39;00m (\u001b[38;5;28mself\u001b[39m\u001b[38;5;241m.\u001b[39mtoolbar\u001b[38;5;241m.\u001b[39m_wait_cursor_for_draw_cm() \u001b[38;5;28;01mif\u001b[39;00m \u001b[38;5;28mself\u001b[39m\u001b[38;5;241m.\u001b[39mtoolbar\n\u001b[1;32m    387\u001b[0m       \u001b[38;5;28;01melse\u001b[39;00m nullcontext()):\n\u001b[0;32m--> 388\u001b[0m     \u001b[38;5;28;43mself\u001b[39;49m\u001b[38;5;241;43m.\u001b[39;49m\u001b[43mfigure\u001b[49m\u001b[38;5;241;43m.\u001b[39;49m\u001b[43mdraw\u001b[49m\u001b[43m(\u001b[49m\u001b[38;5;28;43mself\u001b[39;49m\u001b[38;5;241;43m.\u001b[39;49m\u001b[43mrenderer\u001b[49m\u001b[43m)\u001b[49m\n\u001b[1;32m    389\u001b[0m     \u001b[38;5;66;03m# A GUI class may be need to update a window using this draw, so\u001b[39;00m\n\u001b[1;32m    390\u001b[0m     \u001b[38;5;66;03m# don't forget to call the superclass.\u001b[39;00m\n\u001b[1;32m    391\u001b[0m     \u001b[38;5;28msuper\u001b[39m()\u001b[38;5;241m.\u001b[39mdraw()\n",
      "File \u001b[0;32m~/WRF_Intel/miniconda3/envs/research/lib/python3.9/site-packages/matplotlib/artist.py:95\u001b[0m, in \u001b[0;36m_finalize_rasterization.<locals>.draw_wrapper\u001b[0;34m(artist, renderer, *args, **kwargs)\u001b[0m\n\u001b[1;32m     93\u001b[0m \u001b[38;5;129m@wraps\u001b[39m(draw)\n\u001b[1;32m     94\u001b[0m \u001b[38;5;28;01mdef\u001b[39;00m \u001b[38;5;21mdraw_wrapper\u001b[39m(artist, renderer, \u001b[38;5;241m*\u001b[39margs, \u001b[38;5;241m*\u001b[39m\u001b[38;5;241m*\u001b[39mkwargs):\n\u001b[0;32m---> 95\u001b[0m     result \u001b[38;5;241m=\u001b[39m \u001b[43mdraw\u001b[49m\u001b[43m(\u001b[49m\u001b[43martist\u001b[49m\u001b[43m,\u001b[49m\u001b[43m \u001b[49m\u001b[43mrenderer\u001b[49m\u001b[43m,\u001b[49m\u001b[43m \u001b[49m\u001b[38;5;241;43m*\u001b[39;49m\u001b[43margs\u001b[49m\u001b[43m,\u001b[49m\u001b[43m \u001b[49m\u001b[38;5;241;43m*\u001b[39;49m\u001b[38;5;241;43m*\u001b[39;49m\u001b[43mkwargs\u001b[49m\u001b[43m)\u001b[49m\n\u001b[1;32m     96\u001b[0m     \u001b[38;5;28;01mif\u001b[39;00m renderer\u001b[38;5;241m.\u001b[39m_rasterizing:\n\u001b[1;32m     97\u001b[0m         renderer\u001b[38;5;241m.\u001b[39mstop_rasterizing()\n",
      "File \u001b[0;32m~/WRF_Intel/miniconda3/envs/research/lib/python3.9/site-packages/matplotlib/artist.py:72\u001b[0m, in \u001b[0;36mallow_rasterization.<locals>.draw_wrapper\u001b[0;34m(artist, renderer)\u001b[0m\n\u001b[1;32m     69\u001b[0m     \u001b[38;5;28;01mif\u001b[39;00m artist\u001b[38;5;241m.\u001b[39mget_agg_filter() \u001b[38;5;129;01mis\u001b[39;00m \u001b[38;5;129;01mnot\u001b[39;00m \u001b[38;5;28;01mNone\u001b[39;00m:\n\u001b[1;32m     70\u001b[0m         renderer\u001b[38;5;241m.\u001b[39mstart_filter()\n\u001b[0;32m---> 72\u001b[0m     \u001b[38;5;28;01mreturn\u001b[39;00m \u001b[43mdraw\u001b[49m\u001b[43m(\u001b[49m\u001b[43martist\u001b[49m\u001b[43m,\u001b[49m\u001b[43m \u001b[49m\u001b[43mrenderer\u001b[49m\u001b[43m)\u001b[49m\n\u001b[1;32m     73\u001b[0m \u001b[38;5;28;01mfinally\u001b[39;00m:\n\u001b[1;32m     74\u001b[0m     \u001b[38;5;28;01mif\u001b[39;00m artist\u001b[38;5;241m.\u001b[39mget_agg_filter() \u001b[38;5;129;01mis\u001b[39;00m \u001b[38;5;129;01mnot\u001b[39;00m \u001b[38;5;28;01mNone\u001b[39;00m:\n",
      "File \u001b[0;32m~/WRF_Intel/miniconda3/envs/research/lib/python3.9/site-packages/matplotlib/figure.py:3154\u001b[0m, in \u001b[0;36mFigure.draw\u001b[0;34m(self, renderer)\u001b[0m\n\u001b[1;32m   3151\u001b[0m         \u001b[38;5;66;03m# ValueError can occur when resizing a window.\u001b[39;00m\n\u001b[1;32m   3153\u001b[0m \u001b[38;5;28mself\u001b[39m\u001b[38;5;241m.\u001b[39mpatch\u001b[38;5;241m.\u001b[39mdraw(renderer)\n\u001b[0;32m-> 3154\u001b[0m \u001b[43mmimage\u001b[49m\u001b[38;5;241;43m.\u001b[39;49m\u001b[43m_draw_list_compositing_images\u001b[49m\u001b[43m(\u001b[49m\n\u001b[1;32m   3155\u001b[0m \u001b[43m    \u001b[49m\u001b[43mrenderer\u001b[49m\u001b[43m,\u001b[49m\u001b[43m \u001b[49m\u001b[38;5;28;43mself\u001b[39;49m\u001b[43m,\u001b[49m\u001b[43m \u001b[49m\u001b[43martists\u001b[49m\u001b[43m,\u001b[49m\u001b[43m \u001b[49m\u001b[38;5;28;43mself\u001b[39;49m\u001b[38;5;241;43m.\u001b[39;49m\u001b[43msuppressComposite\u001b[49m\u001b[43m)\u001b[49m\n\u001b[1;32m   3157\u001b[0m \u001b[38;5;28;01mfor\u001b[39;00m sfig \u001b[38;5;129;01min\u001b[39;00m \u001b[38;5;28mself\u001b[39m\u001b[38;5;241m.\u001b[39msubfigs:\n\u001b[1;32m   3158\u001b[0m     sfig\u001b[38;5;241m.\u001b[39mdraw(renderer)\n",
      "File \u001b[0;32m~/WRF_Intel/miniconda3/envs/research/lib/python3.9/site-packages/matplotlib/image.py:132\u001b[0m, in \u001b[0;36m_draw_list_compositing_images\u001b[0;34m(renderer, parent, artists, suppress_composite)\u001b[0m\n\u001b[1;32m    130\u001b[0m \u001b[38;5;28;01mif\u001b[39;00m not_composite \u001b[38;5;129;01mor\u001b[39;00m \u001b[38;5;129;01mnot\u001b[39;00m has_images:\n\u001b[1;32m    131\u001b[0m     \u001b[38;5;28;01mfor\u001b[39;00m a \u001b[38;5;129;01min\u001b[39;00m artists:\n\u001b[0;32m--> 132\u001b[0m         \u001b[43ma\u001b[49m\u001b[38;5;241;43m.\u001b[39;49m\u001b[43mdraw\u001b[49m\u001b[43m(\u001b[49m\u001b[43mrenderer\u001b[49m\u001b[43m)\u001b[49m\n\u001b[1;32m    133\u001b[0m \u001b[38;5;28;01melse\u001b[39;00m:\n\u001b[1;32m    134\u001b[0m     \u001b[38;5;66;03m# Composite any adjacent images together\u001b[39;00m\n\u001b[1;32m    135\u001b[0m     image_group \u001b[38;5;241m=\u001b[39m []\n",
      "File \u001b[0;32m~/WRF_Intel/miniconda3/envs/research/lib/python3.9/site-packages/matplotlib/artist.py:72\u001b[0m, in \u001b[0;36mallow_rasterization.<locals>.draw_wrapper\u001b[0;34m(artist, renderer)\u001b[0m\n\u001b[1;32m     69\u001b[0m     \u001b[38;5;28;01mif\u001b[39;00m artist\u001b[38;5;241m.\u001b[39mget_agg_filter() \u001b[38;5;129;01mis\u001b[39;00m \u001b[38;5;129;01mnot\u001b[39;00m \u001b[38;5;28;01mNone\u001b[39;00m:\n\u001b[1;32m     70\u001b[0m         renderer\u001b[38;5;241m.\u001b[39mstart_filter()\n\u001b[0;32m---> 72\u001b[0m     \u001b[38;5;28;01mreturn\u001b[39;00m \u001b[43mdraw\u001b[49m\u001b[43m(\u001b[49m\u001b[43martist\u001b[49m\u001b[43m,\u001b[49m\u001b[43m \u001b[49m\u001b[43mrenderer\u001b[49m\u001b[43m)\u001b[49m\n\u001b[1;32m     73\u001b[0m \u001b[38;5;28;01mfinally\u001b[39;00m:\n\u001b[1;32m     74\u001b[0m     \u001b[38;5;28;01mif\u001b[39;00m artist\u001b[38;5;241m.\u001b[39mget_agg_filter() \u001b[38;5;129;01mis\u001b[39;00m \u001b[38;5;129;01mnot\u001b[39;00m \u001b[38;5;28;01mNone\u001b[39;00m:\n",
      "File \u001b[0;32m~/WRF_Intel/miniconda3/envs/research/lib/python3.9/site-packages/matplotlib/axes/_base.py:3070\u001b[0m, in \u001b[0;36m_AxesBase.draw\u001b[0;34m(self, renderer)\u001b[0m\n\u001b[1;32m   3067\u001b[0m \u001b[38;5;28;01mif\u001b[39;00m artists_rasterized:\n\u001b[1;32m   3068\u001b[0m     _draw_rasterized(\u001b[38;5;28mself\u001b[39m\u001b[38;5;241m.\u001b[39mfigure, artists_rasterized, renderer)\n\u001b[0;32m-> 3070\u001b[0m \u001b[43mmimage\u001b[49m\u001b[38;5;241;43m.\u001b[39;49m\u001b[43m_draw_list_compositing_images\u001b[49m\u001b[43m(\u001b[49m\n\u001b[1;32m   3071\u001b[0m \u001b[43m    \u001b[49m\u001b[43mrenderer\u001b[49m\u001b[43m,\u001b[49m\u001b[43m \u001b[49m\u001b[38;5;28;43mself\u001b[39;49m\u001b[43m,\u001b[49m\u001b[43m \u001b[49m\u001b[43martists\u001b[49m\u001b[43m,\u001b[49m\u001b[43m \u001b[49m\u001b[38;5;28;43mself\u001b[39;49m\u001b[38;5;241;43m.\u001b[39;49m\u001b[43mfigure\u001b[49m\u001b[38;5;241;43m.\u001b[39;49m\u001b[43msuppressComposite\u001b[49m\u001b[43m)\u001b[49m\n\u001b[1;32m   3073\u001b[0m renderer\u001b[38;5;241m.\u001b[39mclose_group(\u001b[38;5;124m'\u001b[39m\u001b[38;5;124maxes\u001b[39m\u001b[38;5;124m'\u001b[39m)\n\u001b[1;32m   3074\u001b[0m \u001b[38;5;28mself\u001b[39m\u001b[38;5;241m.\u001b[39mstale \u001b[38;5;241m=\u001b[39m \u001b[38;5;28;01mFalse\u001b[39;00m\n",
      "File \u001b[0;32m~/WRF_Intel/miniconda3/envs/research/lib/python3.9/site-packages/matplotlib/image.py:132\u001b[0m, in \u001b[0;36m_draw_list_compositing_images\u001b[0;34m(renderer, parent, artists, suppress_composite)\u001b[0m\n\u001b[1;32m    130\u001b[0m \u001b[38;5;28;01mif\u001b[39;00m not_composite \u001b[38;5;129;01mor\u001b[39;00m \u001b[38;5;129;01mnot\u001b[39;00m has_images:\n\u001b[1;32m    131\u001b[0m     \u001b[38;5;28;01mfor\u001b[39;00m a \u001b[38;5;129;01min\u001b[39;00m artists:\n\u001b[0;32m--> 132\u001b[0m         \u001b[43ma\u001b[49m\u001b[38;5;241;43m.\u001b[39;49m\u001b[43mdraw\u001b[49m\u001b[43m(\u001b[49m\u001b[43mrenderer\u001b[49m\u001b[43m)\u001b[49m\n\u001b[1;32m    133\u001b[0m \u001b[38;5;28;01melse\u001b[39;00m:\n\u001b[1;32m    134\u001b[0m     \u001b[38;5;66;03m# Composite any adjacent images together\u001b[39;00m\n\u001b[1;32m    135\u001b[0m     image_group \u001b[38;5;241m=\u001b[39m []\n",
      "File \u001b[0;32m~/WRF_Intel/miniconda3/envs/research/lib/python3.9/site-packages/matplotlib/artist.py:72\u001b[0m, in \u001b[0;36mallow_rasterization.<locals>.draw_wrapper\u001b[0;34m(artist, renderer)\u001b[0m\n\u001b[1;32m     69\u001b[0m     \u001b[38;5;28;01mif\u001b[39;00m artist\u001b[38;5;241m.\u001b[39mget_agg_filter() \u001b[38;5;129;01mis\u001b[39;00m \u001b[38;5;129;01mnot\u001b[39;00m \u001b[38;5;28;01mNone\u001b[39;00m:\n\u001b[1;32m     70\u001b[0m         renderer\u001b[38;5;241m.\u001b[39mstart_filter()\n\u001b[0;32m---> 72\u001b[0m     \u001b[38;5;28;01mreturn\u001b[39;00m \u001b[43mdraw\u001b[49m\u001b[43m(\u001b[49m\u001b[43martist\u001b[49m\u001b[43m,\u001b[49m\u001b[43m \u001b[49m\u001b[43mrenderer\u001b[49m\u001b[43m)\u001b[49m\n\u001b[1;32m     73\u001b[0m \u001b[38;5;28;01mfinally\u001b[39;00m:\n\u001b[1;32m     74\u001b[0m     \u001b[38;5;28;01mif\u001b[39;00m artist\u001b[38;5;241m.\u001b[39mget_agg_filter() \u001b[38;5;129;01mis\u001b[39;00m \u001b[38;5;129;01mnot\u001b[39;00m \u001b[38;5;28;01mNone\u001b[39;00m:\n",
      "File \u001b[0;32m~/WRF_Intel/miniconda3/envs/research/lib/python3.9/site-packages/matplotlib/collections.py:423\u001b[0m, in \u001b[0;36mCollection.draw\u001b[0;34m(self, renderer)\u001b[0m\n\u001b[1;32m    414\u001b[0m         ipaths, ilinestyles \u001b[38;5;241m=\u001b[39m \u001b[38;5;28mself\u001b[39m\u001b[38;5;241m.\u001b[39m_get_inverse_paths_linestyles()\n\u001b[1;32m    415\u001b[0m         renderer\u001b[38;5;241m.\u001b[39mdraw_path_collection(\n\u001b[1;32m    416\u001b[0m             gc, transform\u001b[38;5;241m.\u001b[39mfrozen(), ipaths,\n\u001b[1;32m    417\u001b[0m             \u001b[38;5;28mself\u001b[39m\u001b[38;5;241m.\u001b[39mget_transforms(), offsets, offset_trf,\n\u001b[0;32m   (...)\u001b[0m\n\u001b[1;32m    420\u001b[0m             \u001b[38;5;28mself\u001b[39m\u001b[38;5;241m.\u001b[39m_antialiaseds, \u001b[38;5;28mself\u001b[39m\u001b[38;5;241m.\u001b[39m_urls,\n\u001b[1;32m    421\u001b[0m             \u001b[38;5;124m\"\u001b[39m\u001b[38;5;124mscreen\u001b[39m\u001b[38;5;124m\"\u001b[39m)\n\u001b[0;32m--> 423\u001b[0m     \u001b[43mrenderer\u001b[49m\u001b[38;5;241;43m.\u001b[39;49m\u001b[43mdraw_path_collection\u001b[49m\u001b[43m(\u001b[49m\n\u001b[1;32m    424\u001b[0m \u001b[43m        \u001b[49m\u001b[43mgc\u001b[49m\u001b[43m,\u001b[49m\u001b[43m \u001b[49m\u001b[43mtransform\u001b[49m\u001b[38;5;241;43m.\u001b[39;49m\u001b[43mfrozen\u001b[49m\u001b[43m(\u001b[49m\u001b[43m)\u001b[49m\u001b[43m,\u001b[49m\u001b[43m \u001b[49m\u001b[43mpaths\u001b[49m\u001b[43m,\u001b[49m\n\u001b[1;32m    425\u001b[0m \u001b[43m        \u001b[49m\u001b[38;5;28;43mself\u001b[39;49m\u001b[38;5;241;43m.\u001b[39;49m\u001b[43mget_transforms\u001b[49m\u001b[43m(\u001b[49m\u001b[43m)\u001b[49m\u001b[43m,\u001b[49m\u001b[43m \u001b[49m\u001b[43moffsets\u001b[49m\u001b[43m,\u001b[49m\u001b[43m \u001b[49m\u001b[43moffset_trf\u001b[49m\u001b[43m,\u001b[49m\n\u001b[1;32m    426\u001b[0m \u001b[43m        \u001b[49m\u001b[38;5;28;43mself\u001b[39;49m\u001b[38;5;241;43m.\u001b[39;49m\u001b[43mget_facecolor\u001b[49m\u001b[43m(\u001b[49m\u001b[43m)\u001b[49m\u001b[43m,\u001b[49m\u001b[43m \u001b[49m\u001b[38;5;28;43mself\u001b[39;49m\u001b[38;5;241;43m.\u001b[39;49m\u001b[43mget_edgecolor\u001b[49m\u001b[43m(\u001b[49m\u001b[43m)\u001b[49m\u001b[43m,\u001b[49m\n\u001b[1;32m    427\u001b[0m \u001b[43m        \u001b[49m\u001b[38;5;28;43mself\u001b[39;49m\u001b[38;5;241;43m.\u001b[39;49m\u001b[43m_linewidths\u001b[49m\u001b[43m,\u001b[49m\u001b[43m \u001b[49m\u001b[38;5;28;43mself\u001b[39;49m\u001b[38;5;241;43m.\u001b[39;49m\u001b[43m_linestyles\u001b[49m\u001b[43m,\u001b[49m\n\u001b[1;32m    428\u001b[0m \u001b[43m        \u001b[49m\u001b[38;5;28;43mself\u001b[39;49m\u001b[38;5;241;43m.\u001b[39;49m\u001b[43m_antialiaseds\u001b[49m\u001b[43m,\u001b[49m\u001b[43m \u001b[49m\u001b[38;5;28;43mself\u001b[39;49m\u001b[38;5;241;43m.\u001b[39;49m\u001b[43m_urls\u001b[49m\u001b[43m,\u001b[49m\n\u001b[1;32m    429\u001b[0m \u001b[43m        \u001b[49m\u001b[38;5;124;43m\"\u001b[39;49m\u001b[38;5;124;43mscreen\u001b[39;49m\u001b[38;5;124;43m\"\u001b[39;49m\u001b[43m)\u001b[49m  \u001b[38;5;66;03m# offset_position, kept for backcompat.\u001b[39;00m\n\u001b[1;32m    431\u001b[0m gc\u001b[38;5;241m.\u001b[39mrestore()\n\u001b[1;32m    432\u001b[0m renderer\u001b[38;5;241m.\u001b[39mclose_group(\u001b[38;5;28mself\u001b[39m\u001b[38;5;241m.\u001b[39m\u001b[38;5;18m__class__\u001b[39m\u001b[38;5;241m.\u001b[39m\u001b[38;5;18m__name__\u001b[39m)\n",
      "File \u001b[0;32m~/WRF_Intel/miniconda3/envs/research/lib/python3.9/site-packages/matplotlib/path.py:211\u001b[0m, in \u001b[0;36mPath.vertices\u001b[0;34m(self)\u001b[0m\n\u001b[1;32m    203\u001b[0m     \u001b[38;5;28mself\u001b[39m\u001b[38;5;241m.\u001b[39m_simplify_threshold \u001b[38;5;241m=\u001b[39m mpl\u001b[38;5;241m.\u001b[39mrcParams[\u001b[38;5;124m'\u001b[39m\u001b[38;5;124mpath.simplify_threshold\u001b[39m\u001b[38;5;124m'\u001b[39m]\n\u001b[1;32m    204\u001b[0m     \u001b[38;5;28mself\u001b[39m\u001b[38;5;241m.\u001b[39m_should_simplify \u001b[38;5;241m=\u001b[39m (\n\u001b[1;32m    205\u001b[0m         \u001b[38;5;28mself\u001b[39m\u001b[38;5;241m.\u001b[39m_simplify_threshold \u001b[38;5;241m>\u001b[39m \u001b[38;5;241m0\u001b[39m \u001b[38;5;129;01mand\u001b[39;00m\n\u001b[1;32m    206\u001b[0m         mpl\u001b[38;5;241m.\u001b[39mrcParams[\u001b[38;5;124m'\u001b[39m\u001b[38;5;124mpath.simplify\u001b[39m\u001b[38;5;124m'\u001b[39m] \u001b[38;5;129;01mand\u001b[39;00m\n\u001b[1;32m    207\u001b[0m         \u001b[38;5;28mlen\u001b[39m(\u001b[38;5;28mself\u001b[39m\u001b[38;5;241m.\u001b[39m_vertices) \u001b[38;5;241m>\u001b[39m\u001b[38;5;241m=\u001b[39m \u001b[38;5;241m128\u001b[39m \u001b[38;5;129;01mand\u001b[39;00m\n\u001b[1;32m    208\u001b[0m         (\u001b[38;5;28mself\u001b[39m\u001b[38;5;241m.\u001b[39m_codes \u001b[38;5;129;01mis\u001b[39;00m \u001b[38;5;28;01mNone\u001b[39;00m \u001b[38;5;129;01mor\u001b[39;00m np\u001b[38;5;241m.\u001b[39mall(\u001b[38;5;28mself\u001b[39m\u001b[38;5;241m.\u001b[39m_codes \u001b[38;5;241m<\u001b[39m\u001b[38;5;241m=\u001b[39m Path\u001b[38;5;241m.\u001b[39mLINETO))\n\u001b[1;32m    209\u001b[0m     )\n\u001b[0;32m--> 211\u001b[0m \u001b[38;5;129m@property\u001b[39m\n\u001b[1;32m    212\u001b[0m \u001b[38;5;28;01mdef\u001b[39;00m \u001b[38;5;21mvertices\u001b[39m(\u001b[38;5;28mself\u001b[39m):\n\u001b[1;32m    213\u001b[0m \u001b[38;5;250m    \u001b[39m\u001b[38;5;124;03m\"\"\"The vertices of the `Path` as an (N, 2) array.\"\"\"\u001b[39;00m\n\u001b[1;32m    214\u001b[0m     \u001b[38;5;28;01mreturn\u001b[39;00m \u001b[38;5;28mself\u001b[39m\u001b[38;5;241m.\u001b[39m_vertices\n",
      "\u001b[0;31mKeyboardInterrupt\u001b[0m: "
     ]
    },
    {
     "data": {
      "image/png": "[encoded data removed]",
      "text/plain": [
       "<Figure size 600x800 with 1 Axes>"
      ]
     },
     "metadata": {},
     "output_type": "display_data"
    }
   ],
   "source": [
    "# Make sure output directory exists\n",
    "output_dir = \"plot\"\n",
    "os.makedirs(output_dir, exist_ok=True)\n",
    "\n",
    "# Loop through each SID\n",
    "for sid in tqdm(valid_lf_sids):\n",
    "    # Filter track\n",
    "    df_sid = gdf_tracks[gdf_tracks[\"SID\"] == sid]\n",
    "\n",
    "    # Set up plot\n",
    "    fig, ax = plt.subplots(figsize=(6, 8))\n",
    "\n",
    "    # Plot map background\n",
    "    phil_waters.plot(ax=ax, color='whitesmoke', edgecolor='black', linewidth=0.8)\n",
    "    phil_coast.plot(ax=ax, color='grey', edgecolor='black', linewidth=0.8)\n",
    "\n",
    "    # Plot TC track\n",
    "    df_sid.plot(ax=ax, color='red', markersize=8, label=f\"Track: {sid}\")\n",
    "\n",
    "    # Optional: annotate start and end\n",
    "    if not df_sid.empty:\n",
    "        ax.annotate(\"Start\", xy=(df_sid.iloc[0].geometry.x, df_sid.iloc[0].geometry.y),\n",
    "                    xytext=(3, 3), textcoords=\"offset points\", fontsize=8)\n",
    "        ax.annotate(\"End\", xy=(df_sid.iloc[-1].geometry.x, df_sid.iloc[-1].geometry.y),\n",
    "                    xytext=(3, 3), textcoords=\"offset points\", fontsize=8)\n",
    "\n",
    "    # Styling\n",
    "    ax.set_title(f\"TC Track: {sid}\")\n",
    "    ax.set_xlabel(\"Longitude\")\n",
    "    ax.set_ylabel(\"Latitude\")\n",
    "    # ax.set_xlim(115, 130)\n",
    "    # ax.set_ylim(5, 22)\n",
    "    ax.grid(True, linestyle='--', alpha=0.5)\n",
    "\n",
    "    # Save figure\n",
    "    plt.tight_layout()\n",
    "    plt.savefig(f\"{output_dir}/{sid}.png\", dpi=200)\n",
    "    plt.close()\n",
    "\n",
    "print(f\"Finished plotting {len(west_sids)} tracks to {output_dir}/\")"
   ]
  }
 ],
 "metadata": {
  "kernelspec": {
   "display_name": "Python (research)",
   "language": "python",
   "name": "research"
  },
  "language_info": {
   "codemirror_mode": {
    "name": "ipython",
    "version": 3
   },
   "file_extension": ".py",
   "mimetype": "text/x-python",
   "name": "python",
   "nbconvert_exporter": "python",
   "pygments_lexer": "ipython3",
   "version": "3.9.19"
  }
 },
 "nbformat": 4,
 "nbformat_minor": 5
}

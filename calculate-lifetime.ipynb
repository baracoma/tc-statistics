{
 "cells": [
  {
   "cell_type": "code",
   "execution_count": 11,
   "id": "5f8812d2-53f1-4c51-8e4a-c0f6c615df55",
   "metadata": {},
   "outputs": [],
   "source": [
    "import geopandas as gpd\n",
    "import pandas as pd\n",
    "from shapely.geometry import Point, Polygon, LineString\n",
    "from shapely.prepared import prep\n",
    "import matplotlib.pyplot as plt\n",
    "\n",
    "# Load the Philippine waters shapefile\n",
    "phil_waters = gpd.read_file(\"/home/cs-iesm-geostorm/Data/gis/vector/boundaries/waters/philippine_waters_filled.shp\")\n",
    "\n"
   ]
  },
  {
   "cell_type": "code",
   "execution_count": 12,
   "id": "cecfca0e-8644-4a3e-8339-9f866e7fadd8",
   "metadata": {},
   "outputs": [],
   "source": [
    "ph_shape = phil_waters.geometry.iloc[0]\n",
    "ph_buffered = ph_shape.buffer(0.5)  # 0.5 degrees (since CRS is EPSG:4326)"
   ]
  },
  {
   "cell_type": "code",
   "execution_count": 13,
   "id": "30d775ff-6975-4616-adc1-8807e9c61b77",
   "metadata": {},
   "outputs": [],
   "source": [
    "par_coords = [\n",
    "    (120, 25),\n",
    "    (135, 25),\n",
    "    (135, 5),\n",
    "    (115, 5),\n",
    "    (115, 15),\n",
    "    (120, 21),\n",
    "    (120, 25)  # Close the polygon\n",
    "]\n",
    "\n",
    "# Create PAR polygon\n",
    "par_poly = Polygon(par_coords)\n",
    "par_gdf = gpd.GeoDataFrame(geometry=[par_poly], crs=\"EPSG:4326\")"
   ]
  },
  {
   "cell_type": "code",
   "execution_count": 14,
   "id": "c60812da-143f-4e01-832c-e208a7eddd55",
   "metadata": {},
   "outputs": [],
   "source": [
    "# Load the IBTrACS data CSV\n",
    "ibtracs = pd.read_csv(\"/home/cs-iesm-geostorm/Data/gis/vector/ibtracs/ibtracs.WP.list.v04r01.csv\", low_memory=False ,skiprows = [1])\n",
    "ibtracs = ibtracs[ibtracs.SEASON>=1979]\n",
    "# Step 2: Get unique storm IDs\n",
    "unique_sids = ibtracs[\"SID\"].unique()"
   ]
  },
  {
   "cell_type": "code",
   "execution_count": 15,
   "id": "dff7f300-f9dc-418c-ada7-03f0170f4be6",
   "metadata": {},
   "outputs": [
    {
     "data": {
      "text/plain": [
       "1507"
      ]
     },
     "execution_count": 15,
     "metadata": {},
     "output_type": "execute_result"
    }
   ],
   "source": [
    "len(unique_sids)"
   ]
  },
  {
   "cell_type": "code",
   "execution_count": 16,
   "id": "d360520a-055d-46f6-877e-46735fcb486f",
   "metadata": {},
   "outputs": [],
   "source": [
    "# Convert to GeoDataFrame\n",
    "gdf_tracks = gpd.GeoDataFrame(\n",
    "    ibtracs,\n",
    "    geometry=gpd.points_from_xy(ibtracs[\"LON\"], ibtracs[\"LAT\"]),\n",
    "    crs=\"EPSG:4326\"\n",
    ")"
   ]
  },
  {
   "cell_type": "code",
   "execution_count": 17,
   "id": "ce13f21b-ff9a-45d1-a944-3213cde17759",
   "metadata": {},
   "outputs": [
    {
     "name": "stdout",
     "output_type": "stream",
     "text": [
      "461 TCs intersected PH buffer.\n",
      "957 TCs intersected PAR.\n"
     ]
    }
   ],
   "source": [
    "from shapely.geometry import LineString\n",
    "from shapely.prepared import prep\n",
    "\n",
    "# Prepare the PH and PAR polygons\n",
    "ph_prepared = prep(ph_buffered)\n",
    "par_prepared = prep(par_poly)\n",
    "\n",
    "# Also get their bounding boxes for a fast first filter\n",
    "ph_bounds = ph_buffered.bounds\n",
    "par_bounds = par_poly.bounds\n",
    "\n",
    "intersect_results = []\n",
    "\n",
    "for sid, group in gdf_tracks.groupby(\"SID\"):\n",
    "    points = list(group.sort_values(\"ISO_TIME\")[\"geometry\"])\n",
    "    if len(points) < 2:\n",
    "        continue  # Skip storms with insufficient points\n",
    "\n",
    "    track_line = LineString(points)\n",
    "    line_bounds = track_line.bounds\n",
    "\n",
    "    # Fast bounding box skip\n",
    "    skip_ph = (line_bounds[2] < ph_bounds[0]) or (line_bounds[0] > ph_bounds[2]) or \\\n",
    "              (line_bounds[3] < ph_bounds[1]) or (line_bounds[1] > ph_bounds[3])\n",
    "\n",
    "    skip_par = (line_bounds[2] < par_bounds[0]) or (line_bounds[0] > par_bounds[2]) or \\\n",
    "               (line_bounds[3] < par_bounds[1]) or (line_bounds[1] > par_bounds[3])\n",
    "\n",
    "    # Use prepped geometry for faster intersects\n",
    "    intersects_ph = False if skip_ph else ph_prepared.intersects(track_line)\n",
    "    intersects_par = False if skip_par else par_prepared.intersects(track_line)\n",
    "\n",
    "    intersect_results.append({\n",
    "        \"SID\": sid,\n",
    "        \"intersects_ph\": intersects_ph,\n",
    "        \"intersects_par\": intersects_par\n",
    "    })\n",
    "\n",
    "# Wrap in DataFrame\n",
    "df_intersects = pd.DataFrame(intersect_results)\n",
    "\n",
    "# Final counts\n",
    "n_track_in_ph = df_intersects[\"intersects_ph\"].sum()\n",
    "n_track_in_par = df_intersects[\"intersects_par\"].sum()\n",
    "\n",
    "print(f\"{n_track_in_ph} TCs intersected PH buffer.\")\n",
    "print(f\"{n_track_in_par} TCs intersected PAR.\")\n"
   ]
  },
  {
   "cell_type": "code",
   "execution_count": 33,
   "id": "402d1be4-74aa-4da0-ab06-4d99ee8027a3",
   "metadata": {},
   "outputs": [
    {
     "name": "stdout",
     "output_type": "stream",
     "text": [
      "Average lifetime of TCs intersecting Ph (for 461 storms): 215.6 hours\n",
      "Average lifetime of TCs intersecting PAR (for 957 storms): 225.7 hours\n"
     ]
    }
   ],
   "source": [
    "# Step 1: Get SIDs that intersect PH and PAR\n",
    "sids_ph = df_intersects[df_intersects[\"intersects_ph\"]][\"SID\"]\n",
    "sids_par = df_intersects[df_intersects[\"intersects_par\"]][\"SID\"]\n",
    "\n",
    "# Step 2: Count number of 3-hourly points within each region\n",
    "\n",
    "# For PH\n",
    "ph_lifetime = (\n",
    "    gdf_tracks[gdf_tracks[\"SID\"].isin(sids_ph)]\n",
    "    .groupby(\"SID\")\n",
    "    .size()\n",
    "    .reset_index(name=\"n_points\")\n",
    ")\n",
    "ph_lifetime[\"hours_total_ph\"] = ph_lifetime[\"n_points\"] * 3\n",
    "\n",
    "# For PAR\n",
    "par_lifetime = (\n",
    "    gdf_tracks[gdf_tracks[\"SID\"].isin(sids_par)]\n",
    "    .groupby(\"SID\")\n",
    "    .size()\n",
    "    .reset_index(name=\"n_points\")\n",
    ")\n",
    "par_lifetime[\"hours_total_par\"] = par_lifetime[\"n_points\"] * 3\n",
    "\n",
    "# Step 3: Compute average\n",
    "avg_total_ph_hours = ph_lifetime[\"hours_total_ph\"].mean()\n",
    "avg_total_par_hours = par_lifetime[\"hours_total_par\"].mean()\n",
    "\n",
    "print(f\"Average lifetime of TCs intersecting Ph (for {len(ph_lifetime)} storms): {avg_total_ph_hours:.1f} hours\")\n",
    "print(f\"Average lifetime of TCs intersecting PAR (for {len(par_lifetime)} storms): {avg_total_par_hours:.1f} hours\")\n"
   ]
  },
  {
   "cell_type": "code",
   "execution_count": 28,
   "id": "ee670933-c4a9-470e-84b6-8a94141e8663",
   "metadata": {},
   "outputs": [
    {
     "name": "stdout",
     "output_type": "stream",
     "text": [
      "Average TC lifetime *inside PH buffer*: 27.8 hours (based on 460 storms)\n"
     ]
    }
   ],
   "source": [
    "# Filter points inside PH buffer\n",
    "ph_inside = gdf_tracks[\n",
    "    (gdf_tracks[\"SID\"].isin(sids_ph)) & \n",
    "    (gdf_tracks.geometry.within(ph_buffered))\n",
    "]\n",
    "\n",
    "# Count points per SID\n",
    "ph_lifetime = (\n",
    "    ph_inside.groupby(\"SID\")\n",
    "    .size()\n",
    "    .reset_index(name=\"n_points\")\n",
    ")\n",
    "ph_lifetime[\"hours_inside_ph\"] = ph_lifetime[\"n_points\"] * 3\n",
    "\n",
    "# Compute average lifetime inside PH\n",
    "avg_ph_hours = ph_lifetime[\"hours_inside_ph\"].mean()\n",
    "print(f\"Average TC lifetime *inside PH buffer*: {avg_ph_hours:.1f} hours (based on {len(ph_lifetime)} storms)\")\n"
   ]
  },
  {
   "cell_type": "code",
   "execution_count": 29,
   "id": "d6e670fe-27e9-4172-861a-87b3bbb3a37c",
   "metadata": {},
   "outputs": [
    {
     "name": "stdout",
     "output_type": "stream",
     "text": [
      "Average TC lifetime *inside PAR*: 85.4 hours (based on 946 storms)\n"
     ]
    }
   ],
   "source": [
    "# Filter points inside PAR\n",
    "par_inside = gdf_tracks[\n",
    "    (gdf_tracks[\"SID\"].isin(sids_par)) & \n",
    "    (gdf_tracks.geometry.within(par_poly))\n",
    "]\n",
    "\n",
    "# Count points per SID\n",
    "par_lifetime = (\n",
    "    par_inside.groupby(\"SID\")\n",
    "    .size()\n",
    "    .reset_index(name=\"n_points\")\n",
    ")\n",
    "par_lifetime[\"hours_inside_par\"] = par_lifetime[\"n_points\"] * 3\n",
    "\n",
    "# Compute average lifetime inside PAR\n",
    "avg_par_hours = par_lifetime[\"hours_inside_par\"].mean()\n",
    "print(f\"Average TC lifetime *inside PAR*: {avg_par_hours:.1f} hours (based on {len(par_lifetime)} storms)\")\n"
   ]
  }
 ],
 "metadata": {
  "kernelspec": {
   "display_name": "Python (research)",
   "language": "python",
   "name": "research"
  },
  "language_info": {
   "codemirror_mode": {
    "name": "ipython",
    "version": 3
   },
   "file_extension": ".py",
   "mimetype": "text/x-python",
   "name": "python",
   "nbconvert_exporter": "python",
   "pygments_lexer": "ipython3",
   "version": "3.9.19"
  }
 },
 "nbformat": 4,
 "nbformat_minor": 5
}
